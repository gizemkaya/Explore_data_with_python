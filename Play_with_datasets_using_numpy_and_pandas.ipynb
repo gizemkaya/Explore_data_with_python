{
 "cells": [
  {
   "cell_type": "markdown",
   "metadata": {},
   "source": [
    "<h3 style=\"margin-bottom:0\">a) NumPy</h3>"
   ]
  },
  {
   "cell_type": "markdown",
   "metadata": {},
   "source": [
    "<h4 style=\"margin-bottom:0\">1) Importing NumPy</h4>"
   ]
  },
  {
   "cell_type": "code",
   "execution_count": 1,
   "metadata": {},
   "outputs": [],
   "source": [
    "import numpy as np"
   ]
  },
  {
   "cell_type": "markdown",
   "metadata": {},
   "source": [
    "<h4 style=\"margin-bottom:0\">2) Creating Array</h4>"
   ]
  },
  {
   "cell_type": "markdown",
   "metadata": {},
   "source": [
    "Create an array (4x4) named \"array\" that has consecutive numbers from 1 to 16."
   ]
  },
  {
   "cell_type": "code",
   "execution_count": 2,
   "metadata": {
    "scrolled": false
   },
   "outputs": [
    {
     "data": {
      "text/plain": [
       "array([[ 1,  2,  3,  4],\n",
       "       [ 5,  6,  7,  8],\n",
       "       [ 9, 10, 11, 12],\n",
       "       [13, 14, 15, 16]])"
      ]
     },
     "execution_count": 2,
     "metadata": {},
     "output_type": "execute_result"
    }
   ],
   "source": [
    "array = np.arange(1, 17).reshape(4,4)\n",
    "array"
   ]
  },
  {
   "cell_type": "markdown",
   "metadata": {},
   "source": [
    "Check the shape of the array to make sure you created it correctly."
   ]
  },
  {
   "cell_type": "code",
   "execution_count": 3,
   "metadata": {},
   "outputs": [
    {
     "data": {
      "text/plain": [
       "(4, 4)"
      ]
     },
     "execution_count": 3,
     "metadata": {},
     "output_type": "execute_result"
    }
   ],
   "source": [
    "array.shape"
   ]
  },
  {
   "cell_type": "markdown",
   "metadata": {},
   "source": [
    "<h4 style=\"margin-bottom:0\">3) Indexing and Slicing</h4>"
   ]
  },
  {
   "cell_type": "markdown",
   "metadata": {},
   "source": [
    "Retrieve elements \"10,11 and 12\"."
   ]
  },
  {
   "cell_type": "code",
   "execution_count": 4,
   "metadata": {},
   "outputs": [
    {
     "data": {
      "text/plain": [
       "array([10, 11, 12])"
      ]
     },
     "execution_count": 4,
     "metadata": {},
     "output_type": "execute_result"
    }
   ],
   "source": [
    "array[2,1:4]\n",
    "\n",
    "# or;\n",
    "# array[np.logical_and(array>9, array<13)]"
   ]
  },
  {
   "cell_type": "markdown",
   "metadata": {},
   "source": [
    "Retrieve all elements that are greater than 9."
   ]
  },
  {
   "cell_type": "code",
   "execution_count": 5,
   "metadata": {},
   "outputs": [
    {
     "data": {
      "text/plain": [
       "array([10, 11, 12, 13, 14, 15, 16])"
      ]
     },
     "execution_count": 5,
     "metadata": {},
     "output_type": "execute_result"
    }
   ],
   "source": [
    "array[array>9]"
   ]
  },
  {
   "cell_type": "markdown",
   "metadata": {},
   "source": [
    "Retrieve all odd numbers."
   ]
  },
  {
   "cell_type": "code",
   "execution_count": 6,
   "metadata": {},
   "outputs": [
    {
     "data": {
      "text/plain": [
       "array([ 1,  3,  5,  7,  9, 11, 13, 15])"
      ]
     },
     "execution_count": 6,
     "metadata": {},
     "output_type": "execute_result"
    }
   ],
   "source": [
    "array[(array %2 != 0)]\n",
    "\n",
    "# Alternative;\n",
    "# arrayodd = array.reshape(array.size)\n",
    "# for x in np.nditer(arrayodd):\n",
    "  # if (arrayodd[x-1] % 2 != 0) :\n",
    "   # print(arrayodd[x-1], end= \" \")"
   ]
  },
  {
   "cell_type": "markdown",
   "metadata": {},
   "source": [
    "Retrieve all numbers that are at the edges of your array (1, 4, 13 and 16)."
   ]
  },
  {
   "cell_type": "code",
   "execution_count": 7,
   "metadata": {},
   "outputs": [
    {
     "data": {
      "text/plain": [
       "array([[ 1,  4],\n",
       "       [13, 16]])"
      ]
     },
     "execution_count": 7,
     "metadata": {},
     "output_type": "execute_result"
    }
   ],
   "source": [
    "array[::3,::3]"
   ]
  },
  {
   "cell_type": "markdown",
   "metadata": {},
   "source": [
    "<h4 style=\"margin-bottom:0\">4) Array Manipulation</h4>"
   ]
  },
  {
   "cell_type": "markdown",
   "metadata": {},
   "source": [
    "Delete the last <b>row </b>."
   ]
  },
  {
   "cell_type": "code",
   "execution_count": 8,
   "metadata": {},
   "outputs": [
    {
     "data": {
      "text/plain": [
       "array([[ 1,  2,  3,  4],\n",
       "       [ 5,  6,  7,  8],\n",
       "       [ 9, 10, 11, 12]])"
      ]
     },
     "execution_count": 8,
     "metadata": {},
     "output_type": "execute_result"
    }
   ],
   "source": [
    "array_del = np.delete(array, 3, 0)\n",
    "array_del"
   ]
  },
  {
   "cell_type": "markdown",
   "metadata": {},
   "source": [
    "Add a new <b> column </b> that has elements 17, 18 and 19."
   ]
  },
  {
   "cell_type": "code",
   "execution_count": 9,
   "metadata": {},
   "outputs": [
    {
     "data": {
      "text/plain": [
       "array([[ 1,  2,  3,  4, 17],\n",
       "       [ 5,  6,  7,  8, 18],\n",
       "       [ 9, 10, 11, 12, 19]])"
      ]
     },
     "execution_count": 9,
     "metadata": {},
     "output_type": "execute_result"
    }
   ],
   "source": [
    "new_column = [17, 18, 19]\n",
    "new_array = np.insert(array_del, 4, new_column, axis=1)\n",
    "new_array"
   ]
  },
  {
   "cell_type": "markdown",
   "metadata": {},
   "source": [
    "<h3 style=\"margin-bottom:0\">b) Pandas</h3>"
   ]
  },
  {
   "cell_type": "markdown",
   "metadata": {},
   "source": [
    "Dataset shows fictional transactions between fictional companies that sell <b> Qutrian </b> (a made up metal) in 2020. Each individual elements are explained as follows:\n",
    "<ul>\n",
    "<li>Seller: seller company name</li>\n",
    "<li>Buyer: buyer company name</li>\n",
    "<li>Quantity: selling quantity (in tons), can be from 0 to 800 due to limitations.</li>\n",
    "<li>Price: selling price (in $), can be from 0 to 10 due to limitations.</li>\n",
    "<li>Date: transaction date, have to be in 2020.</li></ul>\n",
    "\n"
   ]
  },
  {
   "cell_type": "markdown",
   "metadata": {},
   "source": [
    "<h4 style=\"margin-bottom:0\">1) Import Pandas</h4>"
   ]
  },
  {
   "cell_type": "markdown",
   "metadata": {},
   "source": [
    "Import Pandas library of Python:"
   ]
  },
  {
   "cell_type": "code",
   "execution_count": 10,
   "metadata": {},
   "outputs": [],
   "source": [
    "import pandas as pd"
   ]
  },
  {
   "cell_type": "markdown",
   "metadata": {},
   "source": [
    "<h4 style=\"margin-bottom:0\">2) Import Data</h4>"
   ]
  },
  {
   "cell_type": "markdown",
   "metadata": {},
   "source": [
    "Import the \"data.csv\" file."
   ]
  },
  {
   "cell_type": "code",
   "execution_count": 13,
   "metadata": {},
   "outputs": [],
   "source": [
    "df = pd.read_csv('C:\\\\Users\\Gizem\\Files\\data.csv', sep='/')"
   ]
  },
  {
   "cell_type": "markdown",
   "metadata": {},
   "source": [
    "Look at whether the data is imported correctly, check top 5 rows."
   ]
  },
  {
   "cell_type": "code",
   "execution_count": 14,
   "metadata": {},
   "outputs": [
    {
     "data": {
      "text/html": [
       "<div>\n",
       "<style scoped>\n",
       "    .dataframe tbody tr th:only-of-type {\n",
       "        vertical-align: middle;\n",
       "    }\n",
       "\n",
       "    .dataframe tbody tr th {\n",
       "        vertical-align: top;\n",
       "    }\n",
       "\n",
       "    .dataframe thead th {\n",
       "        text-align: right;\n",
       "    }\n",
       "</style>\n",
       "<table border=\"1\" class=\"dataframe\">\n",
       "  <thead>\n",
       "    <tr style=\"text-align: right;\">\n",
       "      <th></th>\n",
       "      <th>seller</th>\n",
       "      <th>buyer</th>\n",
       "      <th>quantity</th>\n",
       "      <th>price</th>\n",
       "      <th>date</th>\n",
       "    </tr>\n",
       "  </thead>\n",
       "  <tbody>\n",
       "    <tr>\n",
       "      <th>0</th>\n",
       "      <td>Qutrian Engineered</td>\n",
       "      <td>Qutrian All-Star</td>\n",
       "      <td>110.0</td>\n",
       "      <td>1.769704e+13</td>\n",
       "      <td>43831</td>\n",
       "    </tr>\n",
       "    <tr>\n",
       "      <th>1</th>\n",
       "      <td>Diluc</td>\n",
       "      <td>Qutrian Force</td>\n",
       "      <td>477.0</td>\n",
       "      <td>2.679111e+14</td>\n",
       "      <td>43831</td>\n",
       "    </tr>\n",
       "    <tr>\n",
       "      <th>2</th>\n",
       "      <td>Cygen</td>\n",
       "      <td>Qutrianx</td>\n",
       "      <td>722.0</td>\n",
       "      <td>1.255434e+14</td>\n",
       "      <td>43831</td>\n",
       "    </tr>\n",
       "    <tr>\n",
       "      <th>3</th>\n",
       "      <td>Iconic Qutrian</td>\n",
       "      <td>Grids</td>\n",
       "      <td>779.0</td>\n",
       "      <td>2.887408e+14</td>\n",
       "      <td>43831</td>\n",
       "    </tr>\n",
       "    <tr>\n",
       "      <th>4</th>\n",
       "      <td>USA Qutrian</td>\n",
       "      <td>Qutrian Gold</td>\n",
       "      <td>750.0</td>\n",
       "      <td>3.522572e+14</td>\n",
       "      <td>43832</td>\n",
       "    </tr>\n",
       "  </tbody>\n",
       "</table>\n",
       "</div>"
      ],
      "text/plain": [
       "               seller             buyer  quantity         price   date\n",
       "0  Qutrian Engineered  Qutrian All-Star     110.0  1.769704e+13  43831\n",
       "1               Diluc     Qutrian Force     477.0  2.679111e+14  43831\n",
       "2               Cygen          Qutrianx     722.0  1.255434e+14  43831\n",
       "3      Iconic Qutrian             Grids     779.0  2.887408e+14  43831\n",
       "4         USA Qutrian      Qutrian Gold     750.0  3.522572e+14  43832"
      ]
     },
     "execution_count": 14,
     "metadata": {},
     "output_type": "execute_result"
    }
   ],
   "source": [
    "df.head(5)"
   ]
  },
  {
   "cell_type": "markdown",
   "metadata": {},
   "source": [
    "<h4 style=\"margin-bottom:0\">3) Cleanse Data</h4>"
   ]
  },
  {
   "cell_type": "markdown",
   "metadata": {},
   "source": [
    "<li>when we check price and date columns above, we see there is something wrong. It seems price information is written as very big numbers and date seems strange, perhaps there is a way to convert this Excel format into pandas format.</li>\n",
    "<li>There may be missing values."
   ]
  },
  {
   "cell_type": "markdown",
   "metadata": {},
   "source": [
    "<h5 style=\"margin-bottom:0\">i) Price & Date</h5>"
   ]
  },
  {
   "cell_type": "markdown",
   "metadata": {},
   "source": [
    "As mentioned above, price information seems strange. This is because they forgot to put a dot after first digit. Also, even if this was a correct column, there would be a huge amount of decimal points that is not necessary in our analysis. So, 3 decimal points is enough for us. Lets transform it and show first 5 line to s\n",
    "<br>\n"
   ]
  },
  {
   "cell_type": "code",
   "execution_count": 15,
   "metadata": {},
   "outputs": [
    {
     "data": {
      "text/html": [
       "<div>\n",
       "<style scoped>\n",
       "    .dataframe tbody tr th:only-of-type {\n",
       "        vertical-align: middle;\n",
       "    }\n",
       "\n",
       "    .dataframe tbody tr th {\n",
       "        vertical-align: top;\n",
       "    }\n",
       "\n",
       "    .dataframe thead th {\n",
       "        text-align: right;\n",
       "    }\n",
       "</style>\n",
       "<table border=\"1\" class=\"dataframe\">\n",
       "  <thead>\n",
       "    <tr style=\"text-align: right;\">\n",
       "      <th></th>\n",
       "      <th>seller</th>\n",
       "      <th>buyer</th>\n",
       "      <th>quantity</th>\n",
       "      <th>price</th>\n",
       "      <th>date</th>\n",
       "    </tr>\n",
       "  </thead>\n",
       "  <tbody>\n",
       "    <tr>\n",
       "      <th>0</th>\n",
       "      <td>Qutrian Engineered</td>\n",
       "      <td>Qutrian All-Star</td>\n",
       "      <td>110.0</td>\n",
       "      <td>1.769</td>\n",
       "      <td>43831</td>\n",
       "    </tr>\n",
       "    <tr>\n",
       "      <th>1</th>\n",
       "      <td>Diluc</td>\n",
       "      <td>Qutrian Force</td>\n",
       "      <td>477.0</td>\n",
       "      <td>2.679</td>\n",
       "      <td>43831</td>\n",
       "    </tr>\n",
       "    <tr>\n",
       "      <th>2</th>\n",
       "      <td>Cygen</td>\n",
       "      <td>Qutrianx</td>\n",
       "      <td>722.0</td>\n",
       "      <td>1.255</td>\n",
       "      <td>43831</td>\n",
       "    </tr>\n",
       "    <tr>\n",
       "      <th>3</th>\n",
       "      <td>Iconic Qutrian</td>\n",
       "      <td>Grids</td>\n",
       "      <td>779.0</td>\n",
       "      <td>2.887</td>\n",
       "      <td>43831</td>\n",
       "    </tr>\n",
       "    <tr>\n",
       "      <th>4</th>\n",
       "      <td>USA Qutrian</td>\n",
       "      <td>Qutrian Gold</td>\n",
       "      <td>750.0</td>\n",
       "      <td>3.522</td>\n",
       "      <td>43832</td>\n",
       "    </tr>\n",
       "    <tr>\n",
       "      <th>...</th>\n",
       "      <td>...</td>\n",
       "      <td>...</td>\n",
       "      <td>...</td>\n",
       "      <td>...</td>\n",
       "      <td>...</td>\n",
       "    </tr>\n",
       "    <tr>\n",
       "      <th>3142</th>\n",
       "      <td>Origin</td>\n",
       "      <td>Japan Qutrian</td>\n",
       "      <td>496.0</td>\n",
       "      <td>7.950</td>\n",
       "      <td>44196</td>\n",
       "    </tr>\n",
       "    <tr>\n",
       "      <th>3143</th>\n",
       "      <td>Qutrian Network</td>\n",
       "      <td>Qutrian Crusade</td>\n",
       "      <td>404.0</td>\n",
       "      <td>3.946</td>\n",
       "      <td>44196</td>\n",
       "    </tr>\n",
       "    <tr>\n",
       "      <th>3144</th>\n",
       "      <td>Qutrianzoid</td>\n",
       "      <td>Omega</td>\n",
       "      <td>380.0</td>\n",
       "      <td>1.602</td>\n",
       "      <td>44196</td>\n",
       "    </tr>\n",
       "    <tr>\n",
       "      <th>3145</th>\n",
       "      <td>Cygen</td>\n",
       "      <td>Bliss</td>\n",
       "      <td>360.0</td>\n",
       "      <td>5.474</td>\n",
       "      <td>44196</td>\n",
       "    </tr>\n",
       "    <tr>\n",
       "      <th>3146</th>\n",
       "      <td>Qutrian All-Star</td>\n",
       "      <td>Omega</td>\n",
       "      <td>702.0</td>\n",
       "      <td>2.036</td>\n",
       "      <td>44196</td>\n",
       "    </tr>\n",
       "  </tbody>\n",
       "</table>\n",
       "<p>3147 rows × 5 columns</p>\n",
       "</div>"
      ],
      "text/plain": [
       "                  seller             buyer  quantity  price   date\n",
       "0     Qutrian Engineered  Qutrian All-Star     110.0  1.769  43831\n",
       "1                  Diluc     Qutrian Force     477.0  2.679  43831\n",
       "2                  Cygen          Qutrianx     722.0  1.255  43831\n",
       "3         Iconic Qutrian             Grids     779.0  2.887  43831\n",
       "4            USA Qutrian      Qutrian Gold     750.0  3.522  43832\n",
       "...                  ...               ...       ...    ...    ...\n",
       "3142              Origin     Japan Qutrian     496.0  7.950  44196\n",
       "3143     Qutrian Network   Qutrian Crusade     404.0  3.946  44196\n",
       "3144         Qutrianzoid             Omega     380.0  1.602  44196\n",
       "3145               Cygen             Bliss     360.0  5.474  44196\n",
       "3146    Qutrian All-Star             Omega     702.0  2.036  44196\n",
       "\n",
       "[3147 rows x 5 columns]"
      ]
     },
     "execution_count": 15,
     "metadata": {},
     "output_type": "execute_result"
    }
   ],
   "source": [
    "#df.loc[df['price'].isnull()]\n",
    "# Firstly check whether there are null values in price column. \n",
    "# Since there are null values, write if clause in convertion functions below;\n",
    "\n",
    "# Convert numeric values to string in order to add dot after first character\n",
    "df['price'] = df['price'].apply(lambda x: str(x) if str(x) != 'nan' else None)\n",
    "\n",
    "# Get first 4 digits since we want to see only 3 decimals in the end\n",
    "df['price'] =df['price'].str[:4]\n",
    "\n",
    "#Add dot after first digit\n",
    "df['price'] = df['price'].str[:1] + \".\" + df['price'].str[1:]\n",
    "\n",
    "#Change datatype from string to number\n",
    "df['price'] = df['price'].apply(lambda x: pd.to_numeric(x) if pd.to_numeric(x) != 'nan' else None)\n",
    "\n",
    "df\n"
   ]
  },
  {
   "cell_type": "markdown",
   "metadata": {},
   "source": [
    "Date information is also strange. This is due to excel date format. Lets convert this format into ISO 8601 format (yyyy-mm-dd)."
   ]
  },
  {
   "cell_type": "code",
   "execution_count": 16,
   "metadata": {
    "scrolled": true
   },
   "outputs": [
    {
     "data": {
      "text/html": [
       "<div>\n",
       "<style scoped>\n",
       "    .dataframe tbody tr th:only-of-type {\n",
       "        vertical-align: middle;\n",
       "    }\n",
       "\n",
       "    .dataframe tbody tr th {\n",
       "        vertical-align: top;\n",
       "    }\n",
       "\n",
       "    .dataframe thead th {\n",
       "        text-align: right;\n",
       "    }\n",
       "</style>\n",
       "<table border=\"1\" class=\"dataframe\">\n",
       "  <thead>\n",
       "    <tr style=\"text-align: right;\">\n",
       "      <th></th>\n",
       "      <th>seller</th>\n",
       "      <th>buyer</th>\n",
       "      <th>quantity</th>\n",
       "      <th>price</th>\n",
       "      <th>date</th>\n",
       "    </tr>\n",
       "  </thead>\n",
       "  <tbody>\n",
       "    <tr>\n",
       "      <th>0</th>\n",
       "      <td>Qutrian Engineered</td>\n",
       "      <td>Qutrian All-Star</td>\n",
       "      <td>110.0</td>\n",
       "      <td>1.769</td>\n",
       "      <td>2020-01-01</td>\n",
       "    </tr>\n",
       "    <tr>\n",
       "      <th>1</th>\n",
       "      <td>Diluc</td>\n",
       "      <td>Qutrian Force</td>\n",
       "      <td>477.0</td>\n",
       "      <td>2.679</td>\n",
       "      <td>2020-01-01</td>\n",
       "    </tr>\n",
       "    <tr>\n",
       "      <th>2</th>\n",
       "      <td>Cygen</td>\n",
       "      <td>Qutrianx</td>\n",
       "      <td>722.0</td>\n",
       "      <td>1.255</td>\n",
       "      <td>2020-01-01</td>\n",
       "    </tr>\n",
       "    <tr>\n",
       "      <th>3</th>\n",
       "      <td>Iconic Qutrian</td>\n",
       "      <td>Grids</td>\n",
       "      <td>779.0</td>\n",
       "      <td>2.887</td>\n",
       "      <td>2020-01-01</td>\n",
       "    </tr>\n",
       "    <tr>\n",
       "      <th>4</th>\n",
       "      <td>USA Qutrian</td>\n",
       "      <td>Qutrian Gold</td>\n",
       "      <td>750.0</td>\n",
       "      <td>3.522</td>\n",
       "      <td>2020-01-02</td>\n",
       "    </tr>\n",
       "    <tr>\n",
       "      <th>...</th>\n",
       "      <td>...</td>\n",
       "      <td>...</td>\n",
       "      <td>...</td>\n",
       "      <td>...</td>\n",
       "      <td>...</td>\n",
       "    </tr>\n",
       "    <tr>\n",
       "      <th>3142</th>\n",
       "      <td>Origin</td>\n",
       "      <td>Japan Qutrian</td>\n",
       "      <td>496.0</td>\n",
       "      <td>7.950</td>\n",
       "      <td>2020-12-31</td>\n",
       "    </tr>\n",
       "    <tr>\n",
       "      <th>3143</th>\n",
       "      <td>Qutrian Network</td>\n",
       "      <td>Qutrian Crusade</td>\n",
       "      <td>404.0</td>\n",
       "      <td>3.946</td>\n",
       "      <td>2020-12-31</td>\n",
       "    </tr>\n",
       "    <tr>\n",
       "      <th>3144</th>\n",
       "      <td>Qutrianzoid</td>\n",
       "      <td>Omega</td>\n",
       "      <td>380.0</td>\n",
       "      <td>1.602</td>\n",
       "      <td>2020-12-31</td>\n",
       "    </tr>\n",
       "    <tr>\n",
       "      <th>3145</th>\n",
       "      <td>Cygen</td>\n",
       "      <td>Bliss</td>\n",
       "      <td>360.0</td>\n",
       "      <td>5.474</td>\n",
       "      <td>2020-12-31</td>\n",
       "    </tr>\n",
       "    <tr>\n",
       "      <th>3146</th>\n",
       "      <td>Qutrian All-Star</td>\n",
       "      <td>Omega</td>\n",
       "      <td>702.0</td>\n",
       "      <td>2.036</td>\n",
       "      <td>2020-12-31</td>\n",
       "    </tr>\n",
       "  </tbody>\n",
       "</table>\n",
       "<p>3147 rows × 5 columns</p>\n",
       "</div>"
      ],
      "text/plain": [
       "                  seller             buyer  quantity  price       date\n",
       "0     Qutrian Engineered  Qutrian All-Star     110.0  1.769 2020-01-01\n",
       "1                  Diluc     Qutrian Force     477.0  2.679 2020-01-01\n",
       "2                  Cygen          Qutrianx     722.0  1.255 2020-01-01\n",
       "3         Iconic Qutrian             Grids     779.0  2.887 2020-01-01\n",
       "4            USA Qutrian      Qutrian Gold     750.0  3.522 2020-01-02\n",
       "...                  ...               ...       ...    ...        ...\n",
       "3142              Origin     Japan Qutrian     496.0  7.950 2020-12-31\n",
       "3143     Qutrian Network   Qutrian Crusade     404.0  3.946 2020-12-31\n",
       "3144         Qutrianzoid             Omega     380.0  1.602 2020-12-31\n",
       "3145               Cygen             Bliss     360.0  5.474 2020-12-31\n",
       "3146    Qutrian All-Star             Omega     702.0  2.036 2020-12-31\n",
       "\n",
       "[3147 rows x 5 columns]"
      ]
     },
     "execution_count": 16,
     "metadata": {},
     "output_type": "execute_result"
    }
   ],
   "source": [
    "import xlrd\n",
    "from datetime import datetime\n",
    "\n",
    "df[\"date\"] = df[\"date\"].apply(lambda x: datetime(*xlrd.xldate_as_tuple(x, 0)))\n",
    "df"
   ]
  },
  {
   "cell_type": "markdown",
   "metadata": {},
   "source": [
    "<h5 style=\"margin-bottom:0\">ii) Null Values</h5>"
   ]
  },
  {
   "cell_type": "markdown",
   "metadata": {},
   "source": [
    "Now, we have converted our strange variables into meaningful ones. We should deal with null values. Before dealing with values, lets look at all of the rows that have at least one null value."
   ]
  },
  {
   "cell_type": "code",
   "execution_count": 17,
   "metadata": {},
   "outputs": [
    {
     "data": {
      "text/html": [
       "<div>\n",
       "<style scoped>\n",
       "    .dataframe tbody tr th:only-of-type {\n",
       "        vertical-align: middle;\n",
       "    }\n",
       "\n",
       "    .dataframe tbody tr th {\n",
       "        vertical-align: top;\n",
       "    }\n",
       "\n",
       "    .dataframe thead th {\n",
       "        text-align: right;\n",
       "    }\n",
       "</style>\n",
       "<table border=\"1\" class=\"dataframe\">\n",
       "  <thead>\n",
       "    <tr style=\"text-align: right;\">\n",
       "      <th></th>\n",
       "      <th>seller</th>\n",
       "      <th>buyer</th>\n",
       "      <th>quantity</th>\n",
       "      <th>price</th>\n",
       "      <th>date</th>\n",
       "    </tr>\n",
       "  </thead>\n",
       "  <tbody>\n",
       "    <tr>\n",
       "      <th>490</th>\n",
       "      <td>Qutrian Trust</td>\n",
       "      <td>NaN</td>\n",
       "      <td>563.0</td>\n",
       "      <td>5.993</td>\n",
       "      <td>2020-02-28</td>\n",
       "    </tr>\n",
       "    <tr>\n",
       "      <th>793</th>\n",
       "      <td>French Qutrian</td>\n",
       "      <td>Qutrianx</td>\n",
       "      <td>3.0</td>\n",
       "      <td>NaN</td>\n",
       "      <td>2020-04-03</td>\n",
       "    </tr>\n",
       "    <tr>\n",
       "      <th>1123</th>\n",
       "      <td>Grids</td>\n",
       "      <td>USA Qutrian</td>\n",
       "      <td>NaN</td>\n",
       "      <td>1.149</td>\n",
       "      <td>2020-05-10</td>\n",
       "    </tr>\n",
       "    <tr>\n",
       "      <th>1568</th>\n",
       "      <td>Vital</td>\n",
       "      <td>Qutrianx</td>\n",
       "      <td>97.0</td>\n",
       "      <td>NaN</td>\n",
       "      <td>2020-07-02</td>\n",
       "    </tr>\n",
       "    <tr>\n",
       "      <th>1649</th>\n",
       "      <td>NaN</td>\n",
       "      <td>Diluc</td>\n",
       "      <td>670.0</td>\n",
       "      <td>2.721</td>\n",
       "      <td>2020-07-11</td>\n",
       "    </tr>\n",
       "    <tr>\n",
       "      <th>1783</th>\n",
       "      <td>Queentrian</td>\n",
       "      <td>NaN</td>\n",
       "      <td>674.0</td>\n",
       "      <td>7.218</td>\n",
       "      <td>2020-07-25</td>\n",
       "    </tr>\n",
       "    <tr>\n",
       "      <th>1925</th>\n",
       "      <td>Ca$h</td>\n",
       "      <td>Omega</td>\n",
       "      <td>577.0</td>\n",
       "      <td>NaN</td>\n",
       "      <td>2020-08-09</td>\n",
       "    </tr>\n",
       "    <tr>\n",
       "      <th>2053</th>\n",
       "      <td>Vertex</td>\n",
       "      <td>NaN</td>\n",
       "      <td>348.0</td>\n",
       "      <td>1.585</td>\n",
       "      <td>2020-08-24</td>\n",
       "    </tr>\n",
       "    <tr>\n",
       "      <th>2179</th>\n",
       "      <td>NaN</td>\n",
       "      <td>Qutrian Essence</td>\n",
       "      <td>541.0</td>\n",
       "      <td>2.776</td>\n",
       "      <td>2020-09-08</td>\n",
       "    </tr>\n",
       "    <tr>\n",
       "      <th>2318</th>\n",
       "      <td>Bliss</td>\n",
       "      <td>Qutrian Engineered</td>\n",
       "      <td>776.0</td>\n",
       "      <td>NaN</td>\n",
       "      <td>2020-09-24</td>\n",
       "    </tr>\n",
       "    <tr>\n",
       "      <th>2436</th>\n",
       "      <td>French Qutrian</td>\n",
       "      <td>NaN</td>\n",
       "      <td>443.0</td>\n",
       "      <td>6.404</td>\n",
       "      <td>2020-10-08</td>\n",
       "    </tr>\n",
       "    <tr>\n",
       "      <th>2564</th>\n",
       "      <td>NaN</td>\n",
       "      <td>Diluc</td>\n",
       "      <td>241.0</td>\n",
       "      <td>2.635</td>\n",
       "      <td>2020-10-24</td>\n",
       "    </tr>\n",
       "    <tr>\n",
       "      <th>2686</th>\n",
       "      <td>Qutrian Trust</td>\n",
       "      <td>NaN</td>\n",
       "      <td>63.0</td>\n",
       "      <td>2.399</td>\n",
       "      <td>2020-11-09</td>\n",
       "    </tr>\n",
       "    <tr>\n",
       "      <th>2936</th>\n",
       "      <td>Vertex</td>\n",
       "      <td>Qutrianx</td>\n",
       "      <td>5.0</td>\n",
       "      <td>NaN</td>\n",
       "      <td>2020-12-09</td>\n",
       "    </tr>\n",
       "    <tr>\n",
       "      <th>3126</th>\n",
       "      <td>Best Qutrian</td>\n",
       "      <td>NaN</td>\n",
       "      <td>346.0</td>\n",
       "      <td>2.465</td>\n",
       "      <td>2020-12-29</td>\n",
       "    </tr>\n",
       "  </tbody>\n",
       "</table>\n",
       "</div>"
      ],
      "text/plain": [
       "              seller               buyer  quantity  price       date\n",
       "490    Qutrian Trust                 NaN     563.0  5.993 2020-02-28\n",
       "793   French Qutrian            Qutrianx       3.0    NaN 2020-04-03\n",
       "1123           Grids         USA Qutrian       NaN  1.149 2020-05-10\n",
       "1568           Vital            Qutrianx      97.0    NaN 2020-07-02\n",
       "1649             NaN               Diluc     670.0  2.721 2020-07-11\n",
       "1783      Queentrian                 NaN     674.0  7.218 2020-07-25\n",
       "1925            Ca$h               Omega     577.0    NaN 2020-08-09\n",
       "2053          Vertex                 NaN     348.0  1.585 2020-08-24\n",
       "2179             NaN     Qutrian Essence     541.0  2.776 2020-09-08\n",
       "2318           Bliss  Qutrian Engineered     776.0    NaN 2020-09-24\n",
       "2436  French Qutrian                 NaN     443.0  6.404 2020-10-08\n",
       "2564             NaN               Diluc     241.0  2.635 2020-10-24\n",
       "2686   Qutrian Trust                 NaN      63.0  2.399 2020-11-09\n",
       "2936          Vertex            Qutrianx       5.0    NaN 2020-12-09\n",
       "3126    Best Qutrian                 NaN     346.0  2.465 2020-12-29"
      ]
     },
     "execution_count": 17,
     "metadata": {},
     "output_type": "execute_result"
    }
   ],
   "source": [
    "df[df.isna().any(axis=1)]"
   ]
  },
  {
   "cell_type": "markdown",
   "metadata": {},
   "source": [
    "Now, fill null values for \"quantity\" and \"price\" with the mean values of those columns. After filling them, show the rull nows again to ensure only seller or buyer have null values."
   ]
  },
  {
   "cell_type": "code",
   "execution_count": 18,
   "metadata": {
    "scrolled": true
   },
   "outputs": [],
   "source": [
    "#Fill null values of quantity with the mean of quantity column\n",
    "df['quantity']= df['quantity'].fillna(df['quantity'].mean())\n",
    "\n",
    "#Fill null values of price with the mean of price column\n",
    "df['price']= df['price'].fillna(df['price'].mean())\n",
    "\n",
    "# Check whether there are null values: df.loc[df['price'].isnull()]"
   ]
  },
  {
   "cell_type": "markdown",
   "metadata": {},
   "source": [
    "<h5 style=\"margin-bottom:0\">iii) Limitations</h5>"
   ]
  },
  {
   "cell_type": "markdown",
   "metadata": {},
   "source": [
    "Finally, to clean the data, we will need to see whether certain entries are below or above limitations. As different types of entries need a different type of corrections, we will consider them separately."
   ]
  },
  {
   "cell_type": "markdown",
   "metadata": {},
   "source": [
    "First, let's have a look at whether there is a quantity or price that is off limits."
   ]
  },
  {
   "cell_type": "code",
   "execution_count": 19,
   "metadata": {},
   "outputs": [
    {
     "name": "stdout",
     "output_type": "stream",
     "text": [
      "Upper limit Quantity:  1201.9981788679088\n",
      "Lower Limit Quantity:  -409.2639131336431\n",
      "Upper limit Price:  10.071406684651883\n",
      "Lower Limit Price:  -3.681388861609235\n"
     ]
    },
    {
     "data": {
      "text/html": [
       "<div>\n",
       "<style scoped>\n",
       "    .dataframe tbody tr th:only-of-type {\n",
       "        vertical-align: middle;\n",
       "    }\n",
       "\n",
       "    .dataframe tbody tr th {\n",
       "        vertical-align: top;\n",
       "    }\n",
       "\n",
       "    .dataframe thead th {\n",
       "        text-align: right;\n",
       "    }\n",
       "</style>\n",
       "<table border=\"1\" class=\"dataframe\">\n",
       "  <thead>\n",
       "    <tr style=\"text-align: right;\">\n",
       "      <th></th>\n",
       "      <th>seller</th>\n",
       "      <th>buyer</th>\n",
       "      <th>quantity</th>\n",
       "      <th>price</th>\n",
       "      <th>date</th>\n",
       "    </tr>\n",
       "  </thead>\n",
       "  <tbody>\n",
       "    <tr>\n",
       "      <th>369</th>\n",
       "      <td>Qutrian Gold</td>\n",
       "      <td>Vista</td>\n",
       "      <td>-118.0</td>\n",
       "      <td>-0.237</td>\n",
       "      <td>2020-02-13</td>\n",
       "    </tr>\n",
       "    <tr>\n",
       "      <th>572</th>\n",
       "      <td>Alpha</td>\n",
       "      <td>Qutrianx</td>\n",
       "      <td>-300.0</td>\n",
       "      <td>2.592</td>\n",
       "      <td>2020-03-08</td>\n",
       "    </tr>\n",
       "    <tr>\n",
       "      <th>724</th>\n",
       "      <td>German Qutrian</td>\n",
       "      <td>French Qutrian</td>\n",
       "      <td>7777.0</td>\n",
       "      <td>2.925</td>\n",
       "      <td>2020-03-27</td>\n",
       "    </tr>\n",
       "    <tr>\n",
       "      <th>1911</th>\n",
       "      <td>Swedish Qutrian</td>\n",
       "      <td>Best Qutrian</td>\n",
       "      <td>1950.0</td>\n",
       "      <td>2.013</td>\n",
       "      <td>2020-08-08</td>\n",
       "    </tr>\n",
       "    <tr>\n",
       "      <th>1998</th>\n",
       "      <td>Swedish Qutrian</td>\n",
       "      <td>USA Qutrian</td>\n",
       "      <td>262.0</td>\n",
       "      <td>-0.257</td>\n",
       "      <td>2020-08-18</td>\n",
       "    </tr>\n",
       "    <tr>\n",
       "      <th>2504</th>\n",
       "      <td>Qutrian Box</td>\n",
       "      <td>Qutrianx</td>\n",
       "      <td>2231.0</td>\n",
       "      <td>2.828</td>\n",
       "      <td>2020-10-16</td>\n",
       "    </tr>\n",
       "  </tbody>\n",
       "</table>\n",
       "</div>"
      ],
      "text/plain": [
       "               seller           buyer  quantity  price       date\n",
       "369      Qutrian Gold           Vista    -118.0 -0.237 2020-02-13\n",
       "572             Alpha        Qutrianx    -300.0  2.592 2020-03-08\n",
       "724    German Qutrian  French Qutrian    7777.0  2.925 2020-03-27\n",
       "1911  Swedish Qutrian    Best Qutrian    1950.0  2.013 2020-08-08\n",
       "1998  Swedish Qutrian     USA Qutrian     262.0 -0.257 2020-08-18\n",
       "2504      Qutrian Box        Qutrianx    2231.0  2.828 2020-10-16"
      ]
     },
     "execution_count": 19,
     "metadata": {},
     "output_type": "execute_result"
    }
   ],
   "source": [
    "# I will use standard deviation method to detect outliers.\n",
    "## Lets firstly check for quantity:\n",
    "\n",
    "upper_limit_quantity = df['quantity'].mean() + 3 * df['quantity'].std()\n",
    "lower_limit_quantity = df['quantity'].mean() - 3 * df['quantity'].std()\n",
    "\n",
    "print(\"Upper limit Quantity: \", upper_limit_quantity)\n",
    "print(\"Lower Limit Quantity: \", lower_limit_quantity)\n",
    "\n",
    "# Any value which is more then upper limit and less then lower limit considered as outlier. \n",
    "# Since the lower limit is less then zero but quantity cannot be minus. I will set lower limit as zero.\n",
    "# Off-limit rows for quantity: df[(df['quantity'] > upper_limit_quantity) | (df['quantity'] < 0)]\n",
    "\n",
    "## Secondly check for price:\n",
    "\n",
    "upper_limit_price = df['price'].mean() + 3 * df['price'].std()\n",
    "lower_limit_price = df['price'].mean() - 3 * df['price'].std()\n",
    "\n",
    "print(\"Upper limit Price: \", upper_limit_price)\n",
    "print(\"Lower Limit Price: \", lower_limit_price)\n",
    "\n",
    "# Any value which is more then upper limit and less then lower limit considered as outlier. \n",
    "# Since the lower limit is less then zero but quantity cannot be minus. I will set lower limit as zero.\n",
    "# Off-limit rows for price: df[(df['price'] > upper_limit_price) | (df['price'] < 0)]\n",
    "\n",
    "df[(df['price'] > upper_limit_price) | (df['price'] < 0) | (df['quantity'] > upper_limit_quantity) | (df['quantity'] < 0)]\n",
    "\n"
   ]
  },
  {
   "cell_type": "markdown",
   "metadata": {},
   "source": [
    "There are many things that can be done to deal with those values. To practice lets use lambda functions.\n",
    "<ul>\n",
    "<li>If there is a negative number, take absolute value of it (because \"minus\" sign is most probably an accident) </li>\n",
    "<li>If there is a number above the limit, simply set it to upper limit.</li>\n",
    "</ul>"
   ]
  },
  {
   "cell_type": "code",
   "execution_count": 20,
   "metadata": {
    "scrolled": false
   },
   "outputs": [
    {
     "data": {
      "text/html": [
       "<div>\n",
       "<style scoped>\n",
       "    .dataframe tbody tr th:only-of-type {\n",
       "        vertical-align: middle;\n",
       "    }\n",
       "\n",
       "    .dataframe tbody tr th {\n",
       "        vertical-align: top;\n",
       "    }\n",
       "\n",
       "    .dataframe thead th {\n",
       "        text-align: right;\n",
       "    }\n",
       "</style>\n",
       "<table border=\"1\" class=\"dataframe\">\n",
       "  <thead>\n",
       "    <tr style=\"text-align: right;\">\n",
       "      <th></th>\n",
       "      <th>seller</th>\n",
       "      <th>buyer</th>\n",
       "      <th>quantity</th>\n",
       "      <th>price</th>\n",
       "      <th>date</th>\n",
       "    </tr>\n",
       "  </thead>\n",
       "  <tbody>\n",
       "  </tbody>\n",
       "</table>\n",
       "</div>"
      ],
      "text/plain": [
       "Empty DataFrame\n",
       "Columns: [seller, buyer, quantity, price, date]\n",
       "Index: []"
      ]
     },
     "execution_count": 20,
     "metadata": {},
     "output_type": "execute_result"
    }
   ],
   "source": [
    "#Take the absolute values of price and quantity:\n",
    "df['price'] = df['price'].abs()\n",
    "df['quantity'] = df ['quantity'].abs()\n",
    "\n",
    "#Replace the ones which are greater then upper limit:\n",
    "df['price'] = df['price'].apply(lambda x: upper_limit_price if x> upper_limit_price else x)\n",
    "df['quantity'] = df['quantity'].apply(lambda x: upper_limit_quantity if x> upper_limit_quantity else x)\n",
    "\n",
    "#Lets check again the off-limits:\n",
    "df[(df['price'] > upper_limit_price) | (df['price'] < 0) | (df['quantity'] > upper_limit_quantity) | (df['quantity'] < 0)]\n"
   ]
  },
  {
   "cell_type": "markdown",
   "metadata": {},
   "source": [
    "Then, there can be some values for \"date\" that is not in 2020. Simply sort date value to see extreme values."
   ]
  },
  {
   "cell_type": "code",
   "execution_count": 21,
   "metadata": {},
   "outputs": [
    {
     "data": {
      "text/html": [
       "<div>\n",
       "<style scoped>\n",
       "    .dataframe tbody tr th:only-of-type {\n",
       "        vertical-align: middle;\n",
       "    }\n",
       "\n",
       "    .dataframe tbody tr th {\n",
       "        vertical-align: top;\n",
       "    }\n",
       "\n",
       "    .dataframe thead th {\n",
       "        text-align: right;\n",
       "    }\n",
       "</style>\n",
       "<table border=\"1\" class=\"dataframe\">\n",
       "  <thead>\n",
       "    <tr style=\"text-align: right;\">\n",
       "      <th></th>\n",
       "      <th>seller</th>\n",
       "      <th>buyer</th>\n",
       "      <th>quantity</th>\n",
       "      <th>price</th>\n",
       "      <th>date</th>\n",
       "    </tr>\n",
       "  </thead>\n",
       "  <tbody>\n",
       "    <tr>\n",
       "      <th>1450</th>\n",
       "      <td>Omega</td>\n",
       "      <td>Qutrian 4 Life</td>\n",
       "      <td>576.0</td>\n",
       "      <td>1.459</td>\n",
       "      <td>2058-10-16</td>\n",
       "    </tr>\n",
       "    <tr>\n",
       "      <th>1612</th>\n",
       "      <td>German Qutrian</td>\n",
       "      <td>Origin</td>\n",
       "      <td>282.0</td>\n",
       "      <td>3.418</td>\n",
       "      <td>2023-04-03</td>\n",
       "    </tr>\n",
       "    <tr>\n",
       "      <th>3146</th>\n",
       "      <td>Qutrian All-Star</td>\n",
       "      <td>Omega</td>\n",
       "      <td>702.0</td>\n",
       "      <td>2.036</td>\n",
       "      <td>2020-12-31</td>\n",
       "    </tr>\n",
       "    <tr>\n",
       "      <th>3139</th>\n",
       "      <td>Qutrianx</td>\n",
       "      <td>Bloom Qutrian</td>\n",
       "      <td>96.0</td>\n",
       "      <td>2.727</td>\n",
       "      <td>2020-12-31</td>\n",
       "    </tr>\n",
       "    <tr>\n",
       "      <th>3136</th>\n",
       "      <td>Aegis</td>\n",
       "      <td>Qutrian 4 Life</td>\n",
       "      <td>242.0</td>\n",
       "      <td>1.352</td>\n",
       "      <td>2020-12-31</td>\n",
       "    </tr>\n",
       "    <tr>\n",
       "      <th>...</th>\n",
       "      <td>...</td>\n",
       "      <td>...</td>\n",
       "      <td>...</td>\n",
       "      <td>...</td>\n",
       "      <td>...</td>\n",
       "    </tr>\n",
       "    <tr>\n",
       "      <th>2</th>\n",
       "      <td>Cygen</td>\n",
       "      <td>Qutrianx</td>\n",
       "      <td>722.0</td>\n",
       "      <td>1.255</td>\n",
       "      <td>2020-01-01</td>\n",
       "    </tr>\n",
       "    <tr>\n",
       "      <th>3</th>\n",
       "      <td>Iconic Qutrian</td>\n",
       "      <td>Grids</td>\n",
       "      <td>779.0</td>\n",
       "      <td>2.887</td>\n",
       "      <td>2020-01-01</td>\n",
       "    </tr>\n",
       "    <tr>\n",
       "      <th>1</th>\n",
       "      <td>Diluc</td>\n",
       "      <td>Qutrian Force</td>\n",
       "      <td>477.0</td>\n",
       "      <td>2.679</td>\n",
       "      <td>2020-01-01</td>\n",
       "    </tr>\n",
       "    <tr>\n",
       "      <th>0</th>\n",
       "      <td>Qutrian Engineered</td>\n",
       "      <td>Qutrian All-Star</td>\n",
       "      <td>110.0</td>\n",
       "      <td>1.769</td>\n",
       "      <td>2020-01-01</td>\n",
       "    </tr>\n",
       "    <tr>\n",
       "      <th>325</th>\n",
       "      <td>Cygen</td>\n",
       "      <td>Qutrian Boss</td>\n",
       "      <td>217.0</td>\n",
       "      <td>1.739</td>\n",
       "      <td>1937-12-20</td>\n",
       "    </tr>\n",
       "  </tbody>\n",
       "</table>\n",
       "<p>3147 rows × 5 columns</p>\n",
       "</div>"
      ],
      "text/plain": [
       "                  seller             buyer  quantity  price       date\n",
       "1450               Omega    Qutrian 4 Life     576.0  1.459 2058-10-16\n",
       "1612      German Qutrian            Origin     282.0  3.418 2023-04-03\n",
       "3146    Qutrian All-Star             Omega     702.0  2.036 2020-12-31\n",
       "3139            Qutrianx     Bloom Qutrian      96.0  2.727 2020-12-31\n",
       "3136               Aegis    Qutrian 4 Life     242.0  1.352 2020-12-31\n",
       "...                  ...               ...       ...    ...        ...\n",
       "2                  Cygen          Qutrianx     722.0  1.255 2020-01-01\n",
       "3         Iconic Qutrian             Grids     779.0  2.887 2020-01-01\n",
       "1                  Diluc     Qutrian Force     477.0  2.679 2020-01-01\n",
       "0     Qutrian Engineered  Qutrian All-Star     110.0  1.769 2020-01-01\n",
       "325                Cygen      Qutrian Boss     217.0  1.739 1937-12-20\n",
       "\n",
       "[3147 rows x 5 columns]"
      ]
     },
     "execution_count": 21,
     "metadata": {},
     "output_type": "execute_result"
    }
   ],
   "source": [
    "df.sort_values('date', ascending=False)"
   ]
  },
  {
   "cell_type": "markdown",
   "metadata": {},
   "source": [
    "There are some dates that are not in 2020. Here, we can simply convert those values into 2020 as they are probably a mistake. After converting, show your sorted date value again to visualize there is not an extreme value anymore."
   ]
  },
  {
   "cell_type": "code",
   "execution_count": 22,
   "metadata": {},
   "outputs": [
    {
     "data": {
      "text/html": [
       "<div>\n",
       "<style scoped>\n",
       "    .dataframe tbody tr th:only-of-type {\n",
       "        vertical-align: middle;\n",
       "    }\n",
       "\n",
       "    .dataframe tbody tr th {\n",
       "        vertical-align: top;\n",
       "    }\n",
       "\n",
       "    .dataframe thead th {\n",
       "        text-align: right;\n",
       "    }\n",
       "</style>\n",
       "<table border=\"1\" class=\"dataframe\">\n",
       "  <thead>\n",
       "    <tr style=\"text-align: right;\">\n",
       "      <th></th>\n",
       "      <th>seller</th>\n",
       "      <th>buyer</th>\n",
       "      <th>quantity</th>\n",
       "      <th>price</th>\n",
       "      <th>date</th>\n",
       "    </tr>\n",
       "  </thead>\n",
       "  <tbody>\n",
       "    <tr>\n",
       "      <th>3146</th>\n",
       "      <td>Qutrian All-Star</td>\n",
       "      <td>Omega</td>\n",
       "      <td>702.0</td>\n",
       "      <td>2.036</td>\n",
       "      <td>2020-12-31</td>\n",
       "    </tr>\n",
       "    <tr>\n",
       "      <th>3140</th>\n",
       "      <td>Qutrian Box</td>\n",
       "      <td>Turkish Qutrian</td>\n",
       "      <td>328.0</td>\n",
       "      <td>2.020</td>\n",
       "      <td>2020-12-31</td>\n",
       "    </tr>\n",
       "    <tr>\n",
       "      <th>3136</th>\n",
       "      <td>Aegis</td>\n",
       "      <td>Qutrian 4 Life</td>\n",
       "      <td>242.0</td>\n",
       "      <td>1.352</td>\n",
       "      <td>2020-12-31</td>\n",
       "    </tr>\n",
       "    <tr>\n",
       "      <th>3137</th>\n",
       "      <td>Ca$h</td>\n",
       "      <td>Origin</td>\n",
       "      <td>354.0</td>\n",
       "      <td>2.105</td>\n",
       "      <td>2020-12-31</td>\n",
       "    </tr>\n",
       "    <tr>\n",
       "      <th>3138</th>\n",
       "      <td>Grids</td>\n",
       "      <td>Qutrianzoid</td>\n",
       "      <td>687.0</td>\n",
       "      <td>1.396</td>\n",
       "      <td>2020-12-31</td>\n",
       "    </tr>\n",
       "    <tr>\n",
       "      <th>...</th>\n",
       "      <td>...</td>\n",
       "      <td>...</td>\n",
       "      <td>...</td>\n",
       "      <td>...</td>\n",
       "      <td>...</td>\n",
       "    </tr>\n",
       "    <tr>\n",
       "      <th>4</th>\n",
       "      <td>USA Qutrian</td>\n",
       "      <td>Qutrian Gold</td>\n",
       "      <td>750.0</td>\n",
       "      <td>3.522</td>\n",
       "      <td>2020-01-02</td>\n",
       "    </tr>\n",
       "    <tr>\n",
       "      <th>2</th>\n",
       "      <td>Cygen</td>\n",
       "      <td>Qutrianx</td>\n",
       "      <td>722.0</td>\n",
       "      <td>1.255</td>\n",
       "      <td>2020-01-01</td>\n",
       "    </tr>\n",
       "    <tr>\n",
       "      <th>1</th>\n",
       "      <td>Diluc</td>\n",
       "      <td>Qutrian Force</td>\n",
       "      <td>477.0</td>\n",
       "      <td>2.679</td>\n",
       "      <td>2020-01-01</td>\n",
       "    </tr>\n",
       "    <tr>\n",
       "      <th>3</th>\n",
       "      <td>Iconic Qutrian</td>\n",
       "      <td>Grids</td>\n",
       "      <td>779.0</td>\n",
       "      <td>2.887</td>\n",
       "      <td>2020-01-01</td>\n",
       "    </tr>\n",
       "    <tr>\n",
       "      <th>0</th>\n",
       "      <td>Qutrian Engineered</td>\n",
       "      <td>Qutrian All-Star</td>\n",
       "      <td>110.0</td>\n",
       "      <td>1.769</td>\n",
       "      <td>2020-01-01</td>\n",
       "    </tr>\n",
       "  </tbody>\n",
       "</table>\n",
       "<p>3147 rows × 5 columns</p>\n",
       "</div>"
      ],
      "text/plain": [
       "                  seller             buyer  quantity  price        date\n",
       "3146    Qutrian All-Star             Omega     702.0  2.036  2020-12-31\n",
       "3140         Qutrian Box   Turkish Qutrian     328.0  2.020  2020-12-31\n",
       "3136               Aegis    Qutrian 4 Life     242.0  1.352  2020-12-31\n",
       "3137                Ca$h            Origin     354.0  2.105  2020-12-31\n",
       "3138               Grids       Qutrianzoid     687.0  1.396  2020-12-31\n",
       "...                  ...               ...       ...    ...         ...\n",
       "4            USA Qutrian      Qutrian Gold     750.0  3.522  2020-01-02\n",
       "2                  Cygen          Qutrianx     722.0  1.255  2020-01-01\n",
       "1                  Diluc     Qutrian Force     477.0  2.679  2020-01-01\n",
       "3         Iconic Qutrian             Grids     779.0  2.887  2020-01-01\n",
       "0     Qutrian Engineered  Qutrian All-Star     110.0  1.769  2020-01-01\n",
       "\n",
       "[3147 rows x 5 columns]"
      ]
     },
     "execution_count": 22,
     "metadata": {},
     "output_type": "execute_result"
    }
   ],
   "source": [
    "#Change the type of the 'date' column to date to replace year\n",
    "df['date'] = df['date'].dt.date\n",
    "\n",
    "# Make all the year values equal to 2020\n",
    "df['date'] = df['date'].apply(lambda x: x.replace(year=2020))\n",
    "\n",
    "#Check whether they are all set to 2020\n",
    "df.sort_values('date', ascending=False)"
   ]
  },
  {
   "cell_type": "markdown",
   "metadata": {},
   "source": [
    "<h4 style=\"margin-bottom:0\">4) Querying Data</h4>"
   ]
  },
  {
   "cell_type": "markdown",
   "metadata": {},
   "source": [
    "We have cleansed our data as much as we could. In this final step, you will need to query data to get useful information."
   ]
  },
  {
   "cell_type": "markdown",
   "metadata": {},
   "source": [
    "First, add a new column that shows revenue (quantity * price) and name it as \"revenue\", show first 5 columns."
   ]
  },
  {
   "cell_type": "code",
   "execution_count": 23,
   "metadata": {},
   "outputs": [
    {
     "data": {
      "text/html": [
       "<div>\n",
       "<style scoped>\n",
       "    .dataframe tbody tr th:only-of-type {\n",
       "        vertical-align: middle;\n",
       "    }\n",
       "\n",
       "    .dataframe tbody tr th {\n",
       "        vertical-align: top;\n",
       "    }\n",
       "\n",
       "    .dataframe thead th {\n",
       "        text-align: right;\n",
       "    }\n",
       "</style>\n",
       "<table border=\"1\" class=\"dataframe\">\n",
       "  <thead>\n",
       "    <tr style=\"text-align: right;\">\n",
       "      <th></th>\n",
       "      <th>seller</th>\n",
       "      <th>buyer</th>\n",
       "      <th>quantity</th>\n",
       "      <th>price</th>\n",
       "      <th>date</th>\n",
       "      <th>revenue</th>\n",
       "    </tr>\n",
       "  </thead>\n",
       "  <tbody>\n",
       "    <tr>\n",
       "      <th>0</th>\n",
       "      <td>Qutrian Engineered</td>\n",
       "      <td>Qutrian All-Star</td>\n",
       "      <td>110.0</td>\n",
       "      <td>1.769</td>\n",
       "      <td>2020-01-01</td>\n",
       "      <td>194.590</td>\n",
       "    </tr>\n",
       "    <tr>\n",
       "      <th>1</th>\n",
       "      <td>Diluc</td>\n",
       "      <td>Qutrian Force</td>\n",
       "      <td>477.0</td>\n",
       "      <td>2.679</td>\n",
       "      <td>2020-01-01</td>\n",
       "      <td>1277.883</td>\n",
       "    </tr>\n",
       "    <tr>\n",
       "      <th>2</th>\n",
       "      <td>Cygen</td>\n",
       "      <td>Qutrianx</td>\n",
       "      <td>722.0</td>\n",
       "      <td>1.255</td>\n",
       "      <td>2020-01-01</td>\n",
       "      <td>906.110</td>\n",
       "    </tr>\n",
       "    <tr>\n",
       "      <th>3</th>\n",
       "      <td>Iconic Qutrian</td>\n",
       "      <td>Grids</td>\n",
       "      <td>779.0</td>\n",
       "      <td>2.887</td>\n",
       "      <td>2020-01-01</td>\n",
       "      <td>2248.973</td>\n",
       "    </tr>\n",
       "    <tr>\n",
       "      <th>4</th>\n",
       "      <td>USA Qutrian</td>\n",
       "      <td>Qutrian Gold</td>\n",
       "      <td>750.0</td>\n",
       "      <td>3.522</td>\n",
       "      <td>2020-01-02</td>\n",
       "      <td>2641.500</td>\n",
       "    </tr>\n",
       "  </tbody>\n",
       "</table>\n",
       "</div>"
      ],
      "text/plain": [
       "               seller             buyer  quantity  price        date   revenue\n",
       "0  Qutrian Engineered  Qutrian All-Star     110.0  1.769  2020-01-01   194.590\n",
       "1               Diluc     Qutrian Force     477.0  2.679  2020-01-01  1277.883\n",
       "2               Cygen          Qutrianx     722.0  1.255  2020-01-01   906.110\n",
       "3      Iconic Qutrian             Grids     779.0  2.887  2020-01-01  2248.973\n",
       "4         USA Qutrian      Qutrian Gold     750.0  3.522  2020-01-02  2641.500"
      ]
     },
     "execution_count": 23,
     "metadata": {},
     "output_type": "execute_result"
    }
   ],
   "source": [
    "df['revenue']= df['quantity']*df['price']\n",
    "df.head(5)"
   ]
  },
  {
   "cell_type": "markdown",
   "metadata": {},
   "source": [
    "Also, add a new column that indicates the month that the transaction occured and name it as \"month\". This will help us later. Show first 5 columns."
   ]
  },
  {
   "cell_type": "code",
   "execution_count": 24,
   "metadata": {
    "scrolled": true
   },
   "outputs": [
    {
     "data": {
      "text/html": [
       "<div>\n",
       "<style scoped>\n",
       "    .dataframe tbody tr th:only-of-type {\n",
       "        vertical-align: middle;\n",
       "    }\n",
       "\n",
       "    .dataframe tbody tr th {\n",
       "        vertical-align: top;\n",
       "    }\n",
       "\n",
       "    .dataframe thead th {\n",
       "        text-align: right;\n",
       "    }\n",
       "</style>\n",
       "<table border=\"1\" class=\"dataframe\">\n",
       "  <thead>\n",
       "    <tr style=\"text-align: right;\">\n",
       "      <th></th>\n",
       "      <th>seller</th>\n",
       "      <th>buyer</th>\n",
       "      <th>quantity</th>\n",
       "      <th>price</th>\n",
       "      <th>date</th>\n",
       "      <th>revenue</th>\n",
       "      <th>month</th>\n",
       "    </tr>\n",
       "  </thead>\n",
       "  <tbody>\n",
       "    <tr>\n",
       "      <th>0</th>\n",
       "      <td>Qutrian Engineered</td>\n",
       "      <td>Qutrian All-Star</td>\n",
       "      <td>110.0</td>\n",
       "      <td>1.769</td>\n",
       "      <td>2020-01-01</td>\n",
       "      <td>194.590</td>\n",
       "      <td>1</td>\n",
       "    </tr>\n",
       "    <tr>\n",
       "      <th>1</th>\n",
       "      <td>Diluc</td>\n",
       "      <td>Qutrian Force</td>\n",
       "      <td>477.0</td>\n",
       "      <td>2.679</td>\n",
       "      <td>2020-01-01</td>\n",
       "      <td>1277.883</td>\n",
       "      <td>1</td>\n",
       "    </tr>\n",
       "    <tr>\n",
       "      <th>2</th>\n",
       "      <td>Cygen</td>\n",
       "      <td>Qutrianx</td>\n",
       "      <td>722.0</td>\n",
       "      <td>1.255</td>\n",
       "      <td>2020-01-01</td>\n",
       "      <td>906.110</td>\n",
       "      <td>1</td>\n",
       "    </tr>\n",
       "    <tr>\n",
       "      <th>3</th>\n",
       "      <td>Iconic Qutrian</td>\n",
       "      <td>Grids</td>\n",
       "      <td>779.0</td>\n",
       "      <td>2.887</td>\n",
       "      <td>2020-01-01</td>\n",
       "      <td>2248.973</td>\n",
       "      <td>1</td>\n",
       "    </tr>\n",
       "    <tr>\n",
       "      <th>4</th>\n",
       "      <td>USA Qutrian</td>\n",
       "      <td>Qutrian Gold</td>\n",
       "      <td>750.0</td>\n",
       "      <td>3.522</td>\n",
       "      <td>2020-01-02</td>\n",
       "      <td>2641.500</td>\n",
       "      <td>1</td>\n",
       "    </tr>\n",
       "  </tbody>\n",
       "</table>\n",
       "</div>"
      ],
      "text/plain": [
       "               seller             buyer  quantity  price        date  \\\n",
       "0  Qutrian Engineered  Qutrian All-Star     110.0  1.769  2020-01-01   \n",
       "1               Diluc     Qutrian Force     477.0  2.679  2020-01-01   \n",
       "2               Cygen          Qutrianx     722.0  1.255  2020-01-01   \n",
       "3      Iconic Qutrian             Grids     779.0  2.887  2020-01-01   \n",
       "4         USA Qutrian      Qutrian Gold     750.0  3.522  2020-01-02   \n",
       "\n",
       "    revenue  month  \n",
       "0   194.590      1  \n",
       "1  1277.883      1  \n",
       "2   906.110      1  \n",
       "3  2248.973      1  \n",
       "4  2641.500      1  "
      ]
     },
     "execution_count": 24,
     "metadata": {},
     "output_type": "execute_result"
    }
   ],
   "source": [
    "import datetime\n",
    "df['month'] = pd.DatetimeIndex(df['date']).month\n",
    "df.head(5)"
   ]
  },
  {
   "cell_type": "markdown",
   "metadata": {},
   "source": [
    "Lets find how much qutrian is sold (in tons) in each month."
   ]
  },
  {
   "cell_type": "code",
   "execution_count": 25,
   "metadata": {},
   "outputs": [
    {
     "data": {
      "text/html": [
       "<div>\n",
       "<style scoped>\n",
       "    .dataframe tbody tr th:only-of-type {\n",
       "        vertical-align: middle;\n",
       "    }\n",
       "\n",
       "    .dataframe tbody tr th {\n",
       "        vertical-align: top;\n",
       "    }\n",
       "\n",
       "    .dataframe thead th {\n",
       "        text-align: right;\n",
       "    }\n",
       "</style>\n",
       "<table border=\"1\" class=\"dataframe\">\n",
       "  <thead>\n",
       "    <tr style=\"text-align: right;\">\n",
       "      <th></th>\n",
       "      <th>quantity</th>\n",
       "    </tr>\n",
       "    <tr>\n",
       "      <th>month</th>\n",
       "      <th></th>\n",
       "    </tr>\n",
       "  </thead>\n",
       "  <tbody>\n",
       "    <tr>\n",
       "      <th>12</th>\n",
       "      <td>104942.000000</td>\n",
       "    </tr>\n",
       "    <tr>\n",
       "      <th>5</th>\n",
       "      <td>104381.367133</td>\n",
       "    </tr>\n",
       "    <tr>\n",
       "      <th>7</th>\n",
       "      <td>96877.000000</td>\n",
       "    </tr>\n",
       "    <tr>\n",
       "      <th>1</th>\n",
       "      <td>96313.000000</td>\n",
       "    </tr>\n",
       "    <tr>\n",
       "      <th>9</th>\n",
       "      <td>95499.000000</td>\n",
       "    </tr>\n",
       "  </tbody>\n",
       "</table>\n",
       "</div>"
      ],
      "text/plain": [
       "            quantity\n",
       "month               \n",
       "12     104942.000000\n",
       "5      104381.367133\n",
       "7       96877.000000\n",
       "1       96313.000000\n",
       "9       95499.000000"
      ]
     },
     "execution_count": 25,
     "metadata": {},
     "output_type": "execute_result"
    }
   ],
   "source": [
    "# Assume that the seller column which contains \"qutrian\" sells only \"qutrian\", \n",
    "# and buyer column which contains \"qutrian\" buys only qutrian\n",
    "# Therefore filter the rows which contains \"qutrian\" in seller or buyer firstly;\n",
    "df_qutrian = df[df['seller'].str.contains('Qutrian' , na = False) | df['buyer'].str.contains('Qutrian' , na = False) ]\n",
    "\n",
    "#then select the quantity column (in order to not show price or revenue)\n",
    "df_qutrian_qty = df_qutrian[['seller', 'quantity', 'month']]\n",
    "\n",
    "#Assume the quantity values are in tons, then take the sum of quantity by month\n",
    "df_qutrian_sum = df_qutrian_qty.groupby('month').sum()\n",
    "\n",
    "#sort in descending and show first 5 rows;\n",
    "df_qutrian_sum.sort_values(['quantity'], ascending=False).head(5)\n"
   ]
  },
  {
   "cell_type": "markdown",
   "metadata": {},
   "source": [
    "Find mean price charged by each of the companies and find 5 cheapest companies and retrieve them."
   ]
  },
  {
   "cell_type": "code",
   "execution_count": 26,
   "metadata": {},
   "outputs": [
    {
     "data": {
      "text/html": [
       "<div>\n",
       "<style scoped>\n",
       "    .dataframe tbody tr th:only-of-type {\n",
       "        vertical-align: middle;\n",
       "    }\n",
       "\n",
       "    .dataframe tbody tr th {\n",
       "        vertical-align: top;\n",
       "    }\n",
       "\n",
       "    .dataframe thead th {\n",
       "        text-align: right;\n",
       "    }\n",
       "</style>\n",
       "<table border=\"1\" class=\"dataframe\">\n",
       "  <thead>\n",
       "    <tr style=\"text-align: right;\">\n",
       "      <th></th>\n",
       "      <th>seller</th>\n",
       "      <th>price</th>\n",
       "    </tr>\n",
       "  </thead>\n",
       "  <tbody>\n",
       "    <tr>\n",
       "      <th>369</th>\n",
       "      <td>Qutrian Gold</td>\n",
       "      <td>0.237</td>\n",
       "    </tr>\n",
       "    <tr>\n",
       "      <th>1998</th>\n",
       "      <td>Swedish Qutrian</td>\n",
       "      <td>0.257</td>\n",
       "    </tr>\n",
       "    <tr>\n",
       "      <th>2232</th>\n",
       "      <td>Qutrian Box</td>\n",
       "      <td>1.000</td>\n",
       "    </tr>\n",
       "    <tr>\n",
       "      <th>1652</th>\n",
       "      <td>Japan Qutrian</td>\n",
       "      <td>1.000</td>\n",
       "    </tr>\n",
       "    <tr>\n",
       "      <th>1065</th>\n",
       "      <td>UK Qutrian</td>\n",
       "      <td>1.001</td>\n",
       "    </tr>\n",
       "  </tbody>\n",
       "</table>\n",
       "</div>"
      ],
      "text/plain": [
       "               seller  price\n",
       "369      Qutrian Gold  0.237\n",
       "1998  Swedish Qutrian  0.257\n",
       "2232      Qutrian Box  1.000\n",
       "1652    Japan Qutrian  1.000\n",
       "1065       UK Qutrian  1.001"
      ]
     },
     "execution_count": 26,
     "metadata": {},
     "output_type": "execute_result"
    }
   ],
   "source": [
    "# for the simplicity, lets choose seller and price columns first\n",
    "df_company_pr = df[['seller', 'price']]\n",
    "df_company_pr.groupby(['seller']).mean(['price'])\n",
    "\n",
    "# sort ascending and get first 5 rows\n",
    "df_company_pr.sort_values(['price'], ascending=True).head(5)"
   ]
  },
  {
   "cell_type": "markdown",
   "metadata": {},
   "source": [
    "Show the two companies that has the highest total revenue traded."
   ]
  },
  {
   "cell_type": "code",
   "execution_count": 27,
   "metadata": {},
   "outputs": [
    {
     "data": {
      "text/html": [
       "<div>\n",
       "<style scoped>\n",
       "    .dataframe tbody tr th:only-of-type {\n",
       "        vertical-align: middle;\n",
       "    }\n",
       "\n",
       "    .dataframe tbody tr th {\n",
       "        vertical-align: top;\n",
       "    }\n",
       "\n",
       "    .dataframe thead th {\n",
       "        text-align: right;\n",
       "    }\n",
       "</style>\n",
       "<table border=\"1\" class=\"dataframe\">\n",
       "  <thead>\n",
       "    <tr style=\"text-align: right;\">\n",
       "      <th></th>\n",
       "      <th>revenue</th>\n",
       "    </tr>\n",
       "    <tr>\n",
       "      <th>seller</th>\n",
       "      <th></th>\n",
       "    </tr>\n",
       "  </thead>\n",
       "  <tbody>\n",
       "    <tr>\n",
       "      <th>Iconic Qutrian</th>\n",
       "      <td>51789.858</td>\n",
       "    </tr>\n",
       "    <tr>\n",
       "      <th>Queentrian</th>\n",
       "      <td>59149.415</td>\n",
       "    </tr>\n",
       "  </tbody>\n",
       "</table>\n",
       "</div>"
      ],
      "text/plain": [
       "                  revenue\n",
       "seller                   \n",
       "Iconic Qutrian  51789.858\n",
       "Queentrian      59149.415"
      ]
     },
     "execution_count": 27,
     "metadata": {},
     "output_type": "execute_result"
    }
   ],
   "source": [
    "# for the simplicity, lets choose seller and revenue columns first\n",
    "df_company_revenue = df[['seller', 'revenue']]\n",
    "\n",
    "#then calculate total revenue for each company by group by\n",
    "df_company_revenue2 = df_company_revenue.groupby(['seller']).sum()\n",
    "\n",
    "# sort descending and get highest 2\n",
    "df_company_revenue2.sort_values(['revenue']).head(2)"
   ]
  }
 ],
 "metadata": {
  "kernelspec": {
   "display_name": "Python 3",
   "language": "python",
   "name": "python3"
  },
  "language_info": {
   "codemirror_mode": {
    "name": "ipython",
    "version": 3
   },
   "file_extension": ".py",
   "mimetype": "text/x-python",
   "name": "python",
   "nbconvert_exporter": "python",
   "pygments_lexer": "ipython3",
   "version": "3.8.8"
  }
 },
 "nbformat": 4,
 "nbformat_minor": 2
}
